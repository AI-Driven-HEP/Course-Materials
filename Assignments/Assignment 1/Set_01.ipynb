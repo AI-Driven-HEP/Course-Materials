{
 "cells": [
  {
   "cell_type": "markdown",
   "metadata": {},
   "source": [
    "# Exercise 01: Design a detector for banana cargo at port.\n",
    "\n",
    "A- Calculate the neutrino flux from a ship of Bananas. On average, a ship carrying bananas might spend 3 days in port just for offloading.\n",
    "\n",
    "B- Suggest possible reaction channels to detect the flux?\n",
    "\n",
    "C- Discuses why the inverse beta decay is not a possible solution."
   ]
  },
  {
   "cell_type": "markdown",
   "metadata": {},
   "source": [
    "#### Your answer:"
   ]
  },
  {
   "cell_type": "code",
   "execution_count": null,
   "metadata": {},
   "outputs": [],
   "source": []
  },
  {
   "cell_type": "markdown",
   "metadata": {},
   "source": [
    "\n",
    "---\n",
    "\n",
    "# Exercise 02: Bayesian Parameter Estimation via MCMC\n",
    "\n",
    "**Context:**  \n",
    "In observational cosmology, the relationship between redshift $z$ and luminosity distance $D_L$ in a flat $\\Lambda$CDM model is approximately:\n",
    "\n",
    "$$ D_L(z; H_0, \\Omega_m) \\approx \\frac{c(1+z)}{H_0} \\int_0^z \\frac{dz'}{\\sqrt{\\Omega_m(1+z')^3 + (1-\\Omega_m)}} $$\n",
    "\n",
    "where $c = 299{,}792.458\\ \\text{km/s}$.\n",
    "\n",
    "In this exercise, you will be given synthetic $D_L$ vs. $z$ data generated for realistic cosmological parameters.  \n",
    "Your task is to use **Metropolis–Hastings MCMC** to estimate $H_0$ and $\\Omega_m$ from this noisy dataset.\n",
    "\n",
    "---\n",
    "\n",
    "## What to Do\n",
    "\n",
    "### 1. Model and Likelihood\n",
    "- Assume Gaussian errors $\\sigma_{D_L}$ for each data point.\n",
    "- The likelihood for parameters $(H_0, \\Omega_m)$ is:\n",
    "\n",
    "$$ L(H_0, \\Omega_m) \\propto \\exp\\left( -\\frac{1}{2} \\sum_{i} \\frac{\\left[ D_{L,i}^{\\text{obs}} - D_L(z_i; H_0, \\Omega_m) \\right]^2}{\\sigma_{D_L}^2} \\right) $$\n",
    "\n",
    "---\n",
    "\n",
    "### 2. Set Prior Distributions as: \n",
    "- $H_0 \\sim \\mathcal{U}(50,\\, 90)$ km/s/Mpc  \n",
    "- $\\Omega_m \\sim \\mathcal{U}(0.1,\\, 0.6)$\n",
    "\n",
    "---\n",
    "\n",
    "### 3. Metropolis–Hastings Implementation\n",
    "- Proposal: Gaussian jumps in both parameters:\n",
    "\n",
    "$$ H_0^{\\text{new}} \\sim \\mathcal{N}(H_0^{\\text{old}}, \\delta_{H_0}^2), \\quad \\Omega_m^{\\text{new}} \\sim \\mathcal{N}(\\Omega_m^{\\text{old}}, \\delta_{\\Omega_m}^2) $$\n",
    "\n",
    "- Compute acceptance ratio:\n",
    "\n",
    "$$ r = \\frac{P_{\\text{posterior}}\\left(H_0^{\\text{new}}, \\Omega_m^{\\text{new}}\\right)}{P_{\\text{posterior}}\\left(H_0^{\\text{old}}, \\Omega_m^{\\text{old}}\\right)} $$\n",
    "\n",
    "- Accept or reject according to $u < r$, where $u \\sim U(0,1)$.\n",
    "\n",
    "---\n",
    "\n",
    "### 4. Tasks\n",
    "- Write your own Metropolis–Hastings routine from scratch\n",
    "- Run chains long enough to achieve convergence.\n",
    "- Plot posterior distributions and credible intervals for $H_0$ and $\\Omega_m$.\n",
    "- Discuss how changing proposal widths $\\delta_{H_0}$ and $\\delta_{\\Omega_m}$ affects convergence.\n",
    "\n",
    "---\n",
    "\n",
    "### Data Format\n",
    "You will be provided with a TXT file **`mcmc_cosmo_data.txt`** located in the `data` folder.\n",
    "Load the file (ignoring the header) and use it in your MCMC implementation.\n"
   ]
  },
  {
   "cell_type": "markdown",
   "metadata": {},
   "source": [
    "#### Your answer:"
   ]
  },
  {
   "cell_type": "code",
   "execution_count": null,
   "metadata": {},
   "outputs": [],
   "source": []
  }
 ],
 "metadata": {
  "colab": {
   "collapsed_sections": [
    "7t4aZ35E3xsN"
   ],
   "provenance": []
  },
  "kernelspec": {
   "display_name": "base",
   "language": "python",
   "name": "python3"
  },
  "language_info": {
   "codemirror_mode": {
    "name": "ipython",
    "version": 3
   },
   "file_extension": ".py",
   "mimetype": "text/x-python",
   "name": "python",
   "nbconvert_exporter": "python",
   "pygments_lexer": "ipython3",
   "version": "3.11.4"
  }
 },
 "nbformat": 4,
 "nbformat_minor": 1
}
