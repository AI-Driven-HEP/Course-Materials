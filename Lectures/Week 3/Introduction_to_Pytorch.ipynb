{
  "cells": [
    {
      "cell_type": "markdown",
      "metadata": {
        "id": "NUu0gw-gAOeU"
      },
      "source": [
        "Introduction to PyTorch\n",
        "--\n",
        "\n",
        "This notebook introduces core PyTorch concepts from scratch, including installation steps and comparing PyTorch tensors with NumPy arrays for better understanding.\n",
        "\n",
        "---"
      ]
    },
    {
      "cell_type": "markdown",
      "metadata": {
        "id": "n5OiRo5ZA5Jw"
      },
      "source": [
        "Installing PyTorch\n",
        "--\n",
        "\n",
        "You can install PyTorch locally or use it in Google Colab.\n",
        "\n",
        "**CPU only (pip):**\n",
        "```bash\n",
        "pip install torch torchvision torchaudion\n",
        "\n",
        "```\n",
        "\n",
        "---\n",
        "\n",
        "**GPU (CUDA):**\n",
        "\n",
        "Check your CUDA version first, then follow installation instructions from the official site:\n",
        "\n",
        "https://pytorch.org/get-started/locally/\n",
        "\n",
        "Example for CUDA 11.8:\n",
        "\n",
        "```bash\n",
        "pip install torch torchvision torchaudio --index-url https://download.pytorch.org/whl/cu118\n",
        "```\n",
        "---\n",
        "\n",
        "**Google Colab:**\n",
        "\n",
        "PyTorch is usually preinstalled.\n"
      ]
    },
    {
      "cell_type": "code",
      "execution_count": null,
      "metadata": {
        "colab": {
          "base_uri": "https://localhost:8080/"
        },
        "id": "GN_4Fw-1AiPe",
        "outputId": "a4613311-bac8-4bc3-ef67-c829784cd3bc"
      },
      "outputs": [
        {
          "name": "stdout",
          "output_type": "stream",
          "text": [
            "2.8.0+cu126\n"
          ]
        }
      ],
      "source": [
        "import torch\n",
        "print(torch.__version__)"
      ]
    },
    {
      "cell_type": "markdown",
      "metadata": {
        "id": "j2KYBWJP9arg"
      },
      "source": [
        "Tensors (PyTorch) vs ndarrays (NumPy)\n",
        "--\n",
        "\n",
        "PyTorch uses the `torch.Tensor` object, similar to `numpy.ndarray`, but can also run computations on GPUs.\n"
      ]
    },
    {
      "cell_type": "code",
      "execution_count": 10,
      "metadata": {
        "id": "vIxVAlME98-w"
      },
      "outputs": [],
      "source": [
        "import numpy as np\n",
        "import torch"
      ]
    },
    {
      "cell_type": "code",
      "execution_count": null,
      "metadata": {
        "id": "MZh8oef--YCm"
      },
      "outputs": [],
      "source": [
        "x = [1, 2, 3]"
      ]
    },
    {
      "cell_type": "code",
      "execution_count": null,
      "metadata": {
        "colab": {
          "base_uri": "https://localhost:8080/"
        },
        "id": "NRoC0yUy_fK6",
        "outputId": "806162aa-f823-4c58-c08c-00a34840b7cf"
      },
      "outputs": [
        {
          "data": {
            "text/plain": [
              "array([1, 2, 3])"
            ]
          },
          "execution_count": 8,
          "metadata": {},
          "output_type": "execute_result"
        }
      ],
      "source": [
        "np.array(x)"
      ]
    },
    {
      "cell_type": "code",
      "execution_count": null,
      "metadata": {
        "colab": {
          "base_uri": "https://localhost:8080/"
        },
        "id": "fW7hGnuR_iKD",
        "outputId": "3f0559b0-6960-4991-ed5a-18002161eb99"
      },
      "outputs": [
        {
          "data": {
            "text/plain": [
              "tensor([1, 2, 3])"
            ]
          },
          "execution_count": 9,
          "metadata": {},
          "output_type": "execute_result"
        }
      ],
      "source": [
        "torch.tensor(x)"
      ]
    },
    {
      "cell_type": "code",
      "execution_count": null,
      "metadata": {
        "colab": {
          "base_uri": "https://localhost:8080/"
        },
        "id": "Bfv0oxi19aJ7",
        "outputId": "362c726c-6a14-4331-a916-21e8a47a9643"
      },
      "outputs": [
        {
          "name": "stdout",
          "output_type": "stream",
          "text": [
            "tensor([[1, 2],\n",
            "        [3, 4]])\n",
            "tensor([[1, 2],\n",
            "        [3, 4]])\n"
          ]
        }
      ],
      "source": [
        "# Create tensor from list\n",
        "t = torch.tensor([[1, 2], [3, 4]])\n",
        "print(t)\n",
        "\n",
        "# Create NumPy array and convert to tensor\n",
        "np_array = np.array([[1, 2], [3, 4]])\n",
        "t_from_np = torch.from_numpy(np_array)\n",
        "print(t_from_np)\n"
      ]
    },
    {
      "cell_type": "markdown",
      "metadata": {
        "id": "xsNfcxO5-pEf"
      },
      "source": [
        "## Basic Operations\n",
        "\n",
        "These operations look almost identical in PyTorch and NumPy.\n"
      ]
    },
    {
      "cell_type": "code",
      "source": [
        "# NumPy\n",
        "a = np.array([[1., 2.], [3., 4.]])\n",
        "b = np.ones((2, 2))"
      ],
      "metadata": {
        "id": "B9HnZa9OyMgi"
      },
      "execution_count": 14,
      "outputs": []
    },
    {
      "cell_type": "code",
      "source": [
        "a + b"
      ],
      "metadata": {
        "colab": {
          "base_uri": "https://localhost:8080/"
        },
        "id": "fsAsU2RpymGT",
        "outputId": "b42a0ace-bf50-4a4d-b998-38950d6de44f"
      },
      "execution_count": 16,
      "outputs": [
        {
          "output_type": "execute_result",
          "data": {
            "text/plain": [
              "array([[2., 3.],\n",
              "       [4., 5.]])"
            ]
          },
          "metadata": {},
          "execution_count": 16
        }
      ]
    },
    {
      "cell_type": "code",
      "source": [
        "a*b"
      ],
      "metadata": {
        "colab": {
          "base_uri": "https://localhost:8080/"
        },
        "id": "Cu-JOdaiynd1",
        "outputId": "29290a41-e849-4eb7-880d-c58b66b2688c"
      },
      "execution_count": 17,
      "outputs": [
        {
          "output_type": "execute_result",
          "data": {
            "text/plain": [
              "array([[1., 2.],\n",
              "       [3., 4.]])"
            ]
          },
          "metadata": {},
          "execution_count": 17
        }
      ]
    },
    {
      "cell_type": "code",
      "source": [
        "a.T"
      ],
      "metadata": {
        "colab": {
          "base_uri": "https://localhost:8080/"
        },
        "id": "laGkbj0iyqPT",
        "outputId": "7775c0d9-f58a-4c19-db99-c043457d05ea"
      },
      "execution_count": 18,
      "outputs": [
        {
          "output_type": "execute_result",
          "data": {
            "text/plain": [
              "array([[1., 3.],\n",
              "       [2., 4.]])"
            ]
          },
          "metadata": {},
          "execution_count": 18
        }
      ]
    },
    {
      "cell_type": "code",
      "execution_count": 19,
      "metadata": {
        "id": "lf8KLYqS9JVk"
      },
      "outputs": [],
      "source": [
        "# PyTorch\n",
        "a = torch.tensor([[1., 2.], [3., 4.]])\n",
        "b = torch.ones((2, 2))\n"
      ]
    },
    {
      "cell_type": "code",
      "source": [
        "a + b"
      ],
      "metadata": {
        "colab": {
          "base_uri": "https://localhost:8080/"
        },
        "id": "gd0xorFhyvyD",
        "outputId": "d31b92c0-4593-4d3c-d797-96754b031cdb"
      },
      "execution_count": 20,
      "outputs": [
        {
          "output_type": "execute_result",
          "data": {
            "text/plain": [
              "tensor([[2., 3.],\n",
              "        [4., 5.]])"
            ]
          },
          "metadata": {},
          "execution_count": 20
        }
      ]
    },
    {
      "cell_type": "code",
      "source": [
        "a*b"
      ],
      "metadata": {
        "colab": {
          "base_uri": "https://localhost:8080/"
        },
        "id": "TsacmCGOyxYl",
        "outputId": "639a204d-502d-437c-cdd0-a71b853da13e"
      },
      "execution_count": 21,
      "outputs": [
        {
          "output_type": "execute_result",
          "data": {
            "text/plain": [
              "tensor([[1., 2.],\n",
              "        [3., 4.]])"
            ]
          },
          "metadata": {},
          "execution_count": 21
        }
      ]
    },
    {
      "cell_type": "code",
      "source": [
        "a.T"
      ],
      "metadata": {
        "colab": {
          "base_uri": "https://localhost:8080/"
        },
        "id": "9CmrX9U4yyo7",
        "outputId": "e6d83f53-87c3-468e-de2b-97a48bc49d6d"
      },
      "execution_count": 22,
      "outputs": [
        {
          "output_type": "execute_result",
          "data": {
            "text/plain": [
              "tensor([[1., 3.],\n",
              "        [2., 4.]])"
            ]
          },
          "metadata": {},
          "execution_count": 22
        }
      ]
    },
    {
      "cell_type": "markdown",
      "metadata": {
        "id": "ljmuxCqmAmIq"
      },
      "source": [
        "## Converting between NumPy and PyTorch\n",
        "\n",
        "This is useful when working with datasets or integrating PyTorch models into existing NumPy-based code.\n"
      ]
    },
    {
      "cell_type": "code",
      "execution_count": null,
      "metadata": {
        "colab": {
          "base_uri": "https://localhost:8080/"
        },
        "id": "SjTGspnrATrQ",
        "outputId": "3de54117-8eaf-4a44-a001-8be851a003a7"
      },
      "outputs": [
        {
          "data": {
            "text/plain": [
              "array([1., 1., 1.], dtype=float32)"
            ]
          },
          "execution_count": 19,
          "metadata": {},
          "output_type": "execute_result"
        }
      ],
      "source": [
        "# Tensor → NumPy\n",
        "t = torch.ones(3)\n",
        "np_version = t.numpy()\n",
        "np_version"
      ]
    },
    {
      "cell_type": "code",
      "execution_count": null,
      "metadata": {
        "colab": {
          "base_uri": "https://localhost:8080/"
        },
        "id": "W9_hZ874Aw3t",
        "outputId": "d2093255-0b71-4b78-9a2e-65984cbc9017"
      },
      "outputs": [
        {
          "data": {
            "text/plain": [
              "tensor([0., 0., 0.], dtype=torch.float64)"
            ]
          },
          "execution_count": 20,
          "metadata": {},
          "output_type": "execute_result"
        }
      ],
      "source": [
        "# NumPy → Tensor\n",
        "arr = np.zeros(3)\n",
        "torch_version = torch.from_numpy(arr)\n",
        "torch_version"
      ]
    },
    {
      "cell_type": "markdown",
      "metadata": {
        "id": "j0DQ1yO3D7ur"
      },
      "source": [
        "## Using GPU\n",
        "\n",
        "PyTorch can run computations on available GPUs.\n"
      ]
    },
    {
      "cell_type": "code",
      "execution_count": null,
      "metadata": {
        "colab": {
          "base_uri": "https://localhost:8080/"
        },
        "id": "fXeeh5p2BDFm",
        "outputId": "22ca943a-50b7-41d4-d7e7-51deb3c6b91b"
      },
      "outputs": [
        {
          "name": "stdout",
          "output_type": "stream",
          "text": [
            "CUDA available: False\n",
            "No GPU detected.\n"
          ]
        }
      ],
      "source": [
        "print(\"CUDA available:\", torch.cuda.is_available())\n",
        "\n",
        "# Move tensor to GPU\n",
        "if torch.cuda.is_available():\n",
        "    t = torch.ones(3)\n",
        "    t_gpu = t.to('cuda')\n",
        "    print(\"Tensor on GPU:\", t_gpu)\n",
        "else:\n",
        "    print(\"No GPU detected.\")\n"
      ]
    },
    {
      "cell_type": "code",
      "execution_count": null,
      "metadata": {
        "colab": {
          "base_uri": "https://localhost:8080/"
        },
        "id": "U85GQUrVEEA-",
        "outputId": "216a4ce0-54d0-410c-bd2f-351ac686543b"
      },
      "outputs": [
        {
          "name": "stdout",
          "output_type": "stream",
          "text": [
            "CUDA available: True\n",
            "Tensor on GPU: tensor([1., 1., 1.], device='cuda:0')\n"
          ]
        }
      ],
      "source": [
        "print(\"CUDA available:\", torch.cuda.is_available())\n",
        "\n",
        "# Move tensor to GPU\n",
        "if torch.cuda.is_available():\n",
        "    t = torch.ones(3)\n",
        "    t_gpu = t.to('cuda')\n",
        "    print(\"Tensor on GPU:\", t_gpu)\n",
        "else:\n",
        "    print(\"No GPU detected.\")\n"
      ]
    },
    {
      "cell_type": "code",
      "execution_count": null,
      "metadata": {
        "id": "WHKeaN7MHKHW"
      },
      "outputs": [],
      "source": [
        "t_gpu = torch.ones(3, device='cuda')"
      ]
    },
    {
      "cell_type": "code",
      "execution_count": null,
      "metadata": {
        "colab": {
          "base_uri": "https://localhost:8080/"
        },
        "id": "5EPcKUOPHNCl",
        "outputId": "1c1bd438-d985-42d9-e98a-f6885c6373df"
      },
      "outputs": [
        {
          "data": {
            "text/plain": [
              "tensor([1., 1., 1.], device='cuda:0')"
            ]
          },
          "execution_count": 9,
          "metadata": {},
          "output_type": "execute_result"
        }
      ],
      "source": [
        "t_gpu"
      ]
    },
    {
      "cell_type": "code",
      "execution_count": null,
      "metadata": {
        "colab": {
          "base_uri": "https://localhost:8080/"
        },
        "id": "9rOpPQGiHUjv",
        "outputId": "67086062-f10f-477b-d6f9-984a6a343fd6"
      },
      "outputs": [
        {
          "data": {
            "text/plain": [
              "tensor([1., 1., 1.])"
            ]
          },
          "execution_count": 13,
          "metadata": {},
          "output_type": "execute_result"
        }
      ],
      "source": [
        "# Defult is on CPU\n",
        "t = torch.ones(3)\n",
        "t"
      ]
    },
    {
      "cell_type": "code",
      "execution_count": null,
      "metadata": {
        "colab": {
          "base_uri": "https://localhost:8080/"
        },
        "id": "T6Q81evWL-XE",
        "outputId": "e30e0829-788b-4734-8a47-035538d2d392"
      },
      "outputs": [
        {
          "name": "stdout",
          "output_type": "stream",
          "text": [
            "cuda:0\n",
            "cpu\n"
          ]
        }
      ],
      "source": [
        "# From GPU to CPU\n",
        "t_gpu = torch.ones(3, device='cuda')   # GPU\n",
        "print(t_gpu.device)\n",
        "\n",
        "t_cpu = t_gpu.to('cpu')\n",
        "print(t_cpu.device)\n"
      ]
    },
    {
      "cell_type": "code",
      "execution_count": null,
      "metadata": {
        "colab": {
          "base_uri": "https://localhost:8080/"
        },
        "id": "ZeeiLk6FMa9N",
        "outputId": "c5c57970-c214-49d1-bbdc-07bfc08f3526"
      },
      "outputs": [
        {
          "name": "stdout",
          "output_type": "stream",
          "text": [
            "cpu\n"
          ]
        }
      ],
      "source": [
        "# or\n",
        "t_cpu = t_gpu.cpu()\n",
        "print(t_cpu.device)"
      ]
    },
    {
      "cell_type": "code",
      "execution_count": null,
      "metadata": {
        "colab": {
          "base_uri": "https://localhost:8080/"
        },
        "id": "Zd9RKPojEOOa",
        "outputId": "72344cd4-bd7a-494b-842b-7ae9dc544e76"
      },
      "outputs": [
        {
          "name": "stdout",
          "output_type": "stream",
          "text": [
            "CPU time: 0.019426 seconds\n",
            "GPU time: 0.004059 seconds\n"
          ]
        }
      ],
      "source": [
        "import time\n",
        "\n",
        "# Setup: large tensor size for noticeable time difference\n",
        "N = 10_000_000\n",
        "\n",
        "# Create a large random tensor on CPU\n",
        "x_cpu = torch.randn(N)\n",
        "\n",
        "# Move same tensor to GPU (if available)\n",
        "if torch.cuda.is_available():\n",
        "    x_gpu = x_cpu.to('cuda')\n",
        "else:\n",
        "    raise RuntimeError(\"No GPU available for test.\")\n",
        "\n",
        "# CPU timing\n",
        "start_cpu = time.time()\n",
        "y_cpu = x_cpu * 2.5\n",
        "torch.cuda.synchronize()  # Not needed for CPU, but safe\n",
        "cpu_time = time.time() - start_cpu\n",
        "\n",
        "# GPU timing\n",
        "torch.cuda.synchronize()  # Ensure GPU is ready\n",
        "start_gpu = time.time()\n",
        "y_gpu = x_gpu * 2.5\n",
        "torch.cuda.synchronize()  # Wait for GPU to finish\n",
        "gpu_time = time.time() - start_gpu\n",
        "\n",
        "print(f\"CPU time: {cpu_time:.6f} seconds\")\n",
        "print(f\"GPU time: {gpu_time:.6f} seconds\")\n"
      ]
    },
    {
      "cell_type": "markdown",
      "metadata": {
        "id": "ZZI0qvoTNe_M"
      },
      "source": [
        "## Statistical operations\n"
      ]
    },
    {
      "cell_type": "markdown",
      "metadata": {
        "id": "ryl-TtoxOCfk"
      },
      "source": [
        "PyTorch provides a variety of statistical\n",
        "operations similar to NumPy. These include:\n",
        "\n",
        "- `mean()` : return the mean of data\n",
        "-  `std()`: return the standard deviation of data\n",
        "- `sum()`, `prod()` : total sum and product of elements.\n",
        "- `min()`, `max()` : smallest and largest values.\n",
        "- `argmin()`, `argmax()` : indices of smallest/largest values.\n",
        "- `median()` : median value.\n",
        "- `quantile()` : arbitrary quantile(s).\n",
        "- `all()`, `any()` : boolean reductions.\n",
        "- `var()` : variance.\n",
        "\n",
        "By default, these operate on all elements. You can specify `dim` to perform\n",
        "the operation along a particular axis.\n"
      ]
    },
    {
      "cell_type": "code",
      "execution_count": null,
      "metadata": {
        "id": "pgL-eBwJOEGK"
      },
      "outputs": [],
      "source": [
        "data = torch.tensor([[2.0, 3.0, 7.0],\n",
        "                     [1.0, 5.0, 4.0]])"
      ]
    },
    {
      "cell_type": "code",
      "source": [
        "data.mean()"
      ],
      "metadata": {
        "colab": {
          "base_uri": "https://localhost:8080/"
        },
        "id": "gO-lNpT-ZIiz",
        "outputId": "64633eb5-028d-420a-d17c-14ba24ce77f9"
      },
      "execution_count": 60,
      "outputs": [
        {
          "output_type": "execute_result",
          "data": {
            "text/plain": [
              "tensor(3.6667)"
            ]
          },
          "metadata": {},
          "execution_count": 60
        }
      ]
    },
    {
      "cell_type": "code",
      "source": [
        "data.std()"
      ],
      "metadata": {
        "colab": {
          "base_uri": "https://localhost:8080/"
        },
        "id": "S2_BfzfGZLnY",
        "outputId": "bdcee62a-beae-47f1-f85c-fa3d50d2bad9"
      },
      "execution_count": 61,
      "outputs": [
        {
          "output_type": "execute_result",
          "data": {
            "text/plain": [
              "tensor(2.1602)"
            ]
          },
          "metadata": {},
          "execution_count": 61
        }
      ]
    },
    {
      "cell_type": "code",
      "execution_count": null,
      "metadata": {
        "colab": {
          "base_uri": "https://localhost:8080/"
        },
        "id": "olj9ofquOefO",
        "outputId": "372a28dc-1c65-4895-bb2a-a0d9308286d5"
      },
      "outputs": [
        {
          "data": {
            "text/plain": [
              "tensor(22.)"
            ]
          },
          "execution_count": 39,
          "metadata": {},
          "output_type": "execute_result"
        }
      ],
      "source": [
        "data.sum()"
      ]
    },
    {
      "cell_type": "code",
      "execution_count": null,
      "metadata": {
        "colab": {
          "base_uri": "https://localhost:8080/"
        },
        "id": "XIF0S9MvOg2h",
        "outputId": "8d79d2c8-c844-41da-c291-90e205e67e7f"
      },
      "outputs": [
        {
          "data": {
            "text/plain": [
              "tensor(840.)"
            ]
          },
          "execution_count": 40,
          "metadata": {},
          "output_type": "execute_result"
        }
      ],
      "source": [
        "data.prod()"
      ]
    },
    {
      "cell_type": "code",
      "execution_count": null,
      "metadata": {
        "colab": {
          "base_uri": "https://localhost:8080/"
        },
        "id": "KeL1miUoOojd",
        "outputId": "fa26c6ec-8381-43aa-dab8-a7039ffb7f1f"
      },
      "outputs": [
        {
          "data": {
            "text/plain": [
              "(tensor(1.), tensor(7.))"
            ]
          },
          "execution_count": 41,
          "metadata": {},
          "output_type": "execute_result"
        }
      ],
      "source": [
        "( data.min(), data.max())"
      ]
    },
    {
      "cell_type": "code",
      "execution_count": null,
      "metadata": {
        "colab": {
          "base_uri": "https://localhost:8080/"
        },
        "id": "oSWLjC67Oyol",
        "outputId": "d6805b96-3498-45c3-c90f-e1d6604e99a8"
      },
      "outputs": [
        {
          "data": {
            "text/plain": [
              "(tensor(3), tensor(2))"
            ]
          },
          "execution_count": 42,
          "metadata": {},
          "output_type": "execute_result"
        }
      ],
      "source": [
        "(data.argmin(), data.argmax())"
      ]
    },
    {
      "cell_type": "code",
      "execution_count": null,
      "metadata": {
        "colab": {
          "base_uri": "https://localhost:8080/"
        },
        "id": "_2NCs-ZOSVFG",
        "outputId": "04dd89a5-aac3-49ba-9b02-565a6803325d"
      },
      "outputs": [
        {
          "name": "stdout",
          "output_type": "stream",
          "text": [
            "Flattened index: tensor(3)\n",
            "Row index: 1, Col index: 0\n",
            "Min value: tensor(1.)\n"
          ]
        }
      ],
      "source": [
        "# Find flattened index of min value\n",
        "idx_flat = data.argmin()\n",
        "print(\"Flattened index:\", idx_flat)\n",
        "\n",
        "# Convert to 2D coordinates (row, col)\n",
        "rows, cols = data.shape\n",
        "row_idx = idx_flat // cols\n",
        "col_idx = idx_flat % cols\n",
        "print(f\"Row index: {row_idx.item()}, Col index: {col_idx.item()}\")\n",
        "\n",
        "print(\"Min value:\", data[row_idx, col_idx])\n"
      ]
    },
    {
      "cell_type": "code",
      "execution_count": null,
      "metadata": {
        "colab": {
          "base_uri": "https://localhost:8080/"
        },
        "id": "p8P5zunlSmVW",
        "outputId": "831b6d6a-f25b-4c3a-ac19-6690a01f63d6"
      },
      "outputs": [
        {
          "data": {
            "text/plain": [
              "tensor(3.)"
            ]
          },
          "execution_count": 44,
          "metadata": {},
          "output_type": "execute_result"
        }
      ],
      "source": [
        "# Median\n",
        "data.median()"
      ]
    },
    {
      "cell_type": "code",
      "execution_count": null,
      "metadata": {
        "colab": {
          "base_uri": "https://localhost:8080/"
        },
        "id": "mKryyR4yTBhs",
        "outputId": "5a235672-a6e0-4170-b4d5-c0ad7e4bed82"
      },
      "outputs": [
        {
          "data": {
            "text/plain": [
              "tensor([2.2500, 4.7500])"
            ]
          },
          "execution_count": 45,
          "metadata": {},
          "output_type": "execute_result"
        }
      ],
      "source": [
        "# Quantile (e.g., 25% and 75%)\n",
        "q_values = torch.tensor([0.25, 0.75])\n",
        "torch.quantile(data, q_values)\n"
      ]
    },
    {
      "cell_type": "code",
      "execution_count": null,
      "metadata": {
        "colab": {
          "base_uri": "https://localhost:8080/"
        },
        "id": "3l8D8VaETK0k",
        "outputId": "e5df4f16-a455-4ddd-eec2-9ecb791bcf50"
      },
      "outputs": [
        {
          "data": {
            "text/plain": [
              "tensor(4.6667)"
            ]
          },
          "execution_count": 46,
          "metadata": {},
          "output_type": "execute_result"
        }
      ],
      "source": [
        "# Variance\n",
        "data.var()"
      ]
    },
    {
      "cell_type": "code",
      "execution_count": null,
      "metadata": {
        "colab": {
          "background_save": true
        },
        "id": "9Z3DdPkdOg6h",
        "outputId": "8bf1c97e-d542-4887-9a24-06d8764853d5"
      },
      "outputs": [
        {
          "data": {
            "text/plain": [
              "tensor([1.5000, 4.0000, 5.5000])"
            ]
          },
          "execution_count": 55,
          "metadata": {},
          "output_type": "execute_result"
        }
      ],
      "source": [
        "# Operations along a specific dimension\n",
        "data.mean(dim=1) # mean of each column"
      ]
    },
    {
      "cell_type": "code",
      "source": [],
      "metadata": {
        "id": "odFLAQiFx6N5"
      },
      "execution_count": null,
      "outputs": []
    }
  ],
  "metadata": {
    "accelerator": "GPU",
    "colab": {
      "gpuType": "T4",
      "provenance": []
    },
    "kernelspec": {
      "display_name": "Python 3",
      "name": "python3"
    },
    "language_info": {
      "name": "python"
    }
  },
  "nbformat": 4,
  "nbformat_minor": 0
}